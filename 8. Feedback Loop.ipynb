{
 "cells": [
  {
   "cell_type": "markdown",
   "metadata": {},
   "source": [
    "# Feedback Loop Implementation for Supply Chain Management System\n",
    "\n",
    "This notebook demonstrates the setup of a feedback loop in an automated supply chain management system using AWS services. We will set up data visualization, real-time data streaming, and data processing to enable continuous improvements based on operational data.\n",
    "\n",
    "## Step 1: Setup AWS QuickSight for Data Visualization\n",
    "\n",
    "Amazon QuickSight is used here to create visualizations of the data gathered from the supply chain operations, which helps in identifying patterns and areas for improvement.\n",
    "\n"
   ]
  },
  {
   "cell_type": "code",
   "execution_count": null,
   "metadata": {},
   "outputs": [],
   "source": [
    "import boto3\n",
    "\n",
    "# Assume boto3 session is already configured with necessary credentials\n",
    "quicksight_client = boto3.client('quicksight')\n",
    "\n",
    "# Subscribe to QuickSight (run only once)\n",
    "response = quicksight_client.subscribe(\n",
    "    AwsAccountId='your-account-id',\n",
    "    Region='your-region'\n",
    ")\n",
    "\n",
    "response\n"
   ]
  },
  {
   "cell_type": "markdown",
   "metadata": {},
   "source": [
    "## Step 2: Create a new analysis in QuickSight\n",
    "\n",
    "Once subscribed, create an analysis to start visualizing your data.\n"
   ]
  },
  {
   "cell_type": "code",
   "execution_count": null,
   "metadata": {},
   "outputs": [],
   "source": [
    "response = quicksight_client.create_analysis(\n",
    "    AwsAccountId='your-account-id',\n",
    "    AnalysisId='SupplyChainAnalysis',\n",
    "    Name='Supply Chain Data Analysis',\n",
    "    SourceEntity={\n",
    "        'SourceTemplate': {\n",
    "            'DataSetReferences': [\n",
    "                {\n",
    "                    'DataSetPlaceholder': 'SupplyChainData',\n",
    "                    'DataSetArn': 'arn:aws:quicksight:your-region:your-account-id:dataset/your-dataset-id'\n",
    "                }\n",
    "            ],\n",
    "            'Arn': 'arn:aws:quicksight:your-region:your-account-id:template/your-template-id'\n",
    "        }\n",
    "    }\n",
    ")\n",
    "\n",
    "response\n"
   ]
  },
  {
   "cell_type": "markdown",
   "metadata": {},
   "source": [
    "## Step 3: Stream Data Using AWS Kinesis\n",
    "\n",
    "Kinesis streams are configured to capture and process real-time data from the supply chain operations.\n"
   ]
  },
  {
   "cell_type": "code",
   "execution_count": null,
   "metadata": {},
   "outputs": [],
   "source": [
    "kinesis_client = boto3.client('kinesis')\n",
    "\n",
    "# Create a Kinesis data stream\n",
    "response = kinesis_client.create_stream(\n",
    "    StreamName='SupplyChainStream',\n",
    "    ShardCount=1\n",
    ")\n",
    "\n",
    "response\n"
   ]
  },
  {
   "cell_type": "markdown",
   "metadata": {},
   "source": [
    "## Step 4: Setup Lambda for Data Processing\n",
    "\n",
    "This Lambda function processes data coming from Kinesis and possibly triggers actions or updates within the system.\n"
   ]
  },
  {
   "cell_type": "code",
   "execution_count": null,
   "metadata": {},
   "outputs": [],
   "source": [
    "lambda_client = boto3.client('lambda')\n",
    "\n",
    "# Lambda function code\n",
    "lambda_code = \"\"\"\n",
    "import json\n",
    "import base64\n",
    "\n",
    "def lambda_handler(event, context):\n",
    "    for record in event['Records']:\n",
    "        payload = json.loads(base64.b64decode(record['kinesis']['data']))\n",
    "        print(\"Processed record: \", payload)\n",
    "    return {'statusCode': 200, 'body': json.dumps('Data processed successfully')}\n",
    "\"\"\"\n",
    "\n",
    "# Create or update lambda function\n",
    "response = lambda_client.create_function(\n",
    "    FunctionName='ProcessDataStream',\n",
    "    Runtime='python3.8',\n",
    "    Role='arn:aws:iam::your-account-id:role/your-lambda-role',\n",
    "    Handler='lambda_function.lambda_handler',\n",
    "    Code={'ZipFile': lambda_code},\n",
    "    Description='Processes data from Kinesis Stream'\n",
    ")\n",
    "\n",
    "response\n"
   ]
  },
  {
   "cell_type": "markdown",
   "metadata": {},
   "source": [
    "## Step 5: Use Data to Drive System Improvements\n",
    "\n",
    "The system adjusts operational settings based on the data insights obtained from QuickSight and Lambda processing, enhancing efficiency.\n"
   ]
  },
  {
   "cell_type": "code",
   "execution_count": null,
   "metadata": {},
   "outputs": [],
   "source": [
    "dynamodb = boto3.resource('dynamodb')\n",
    "table = dynamodb.Table('InventoryData')\n",
    "\n",
    "def adjust_inventory_thresholds(item_id, new_threshold):\n",
    "    response = table.update_item(\n",
    "        Key={'id': item_id},\n",
    "        UpdateExpression='SET threshold = :val',\n",
    "        ExpressionAttributeValues={':val': new_threshold}\n",
    "    )\n",
    "    return response\n",
    "\n",
    "# Example adjustment\n",
    "adjust_inventory_thresholds('item123', 50)\n"
   ]
  },
  {
   "cell_type": "markdown",
   "metadata": {},
   "source": [
    "Automated Testing and Deployment\n",
    "Automate Testing and Deployment of Improvements\n",
    "Integrate testing and deployment into your CI/CD pipeline to automatically deploy improvements based on the feedback loop.\n",
    "\n",
    "deploy_changes:\n",
    "  stage: deploy\n",
    "  script:\n",
    "    - echo \"Deploying updates based on feedback...\"\n",
    "    - aws cloudformation update-stack --stack-name \"SupplyChainManagementSystem\" --template-body file://cloudformation.yaml --parameters ParameterKey=InstanceType,ParameterValue=t2.micro\n"
   ]
  }
 ],
 "metadata": {
  "language_info": {
   "name": "python"
  }
 },
 "nbformat": 4,
 "nbformat_minor": 2
}
