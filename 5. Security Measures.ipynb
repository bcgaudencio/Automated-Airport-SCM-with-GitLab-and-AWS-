{
 "cells": [
  {
   "cell_type": "markdown",
   "metadata": {},
   "source": [
    "# Security Measures for Supply Chain Management System\n",
    "\n",
    "This notebook details the implementation of crucial security measures to protect the automated supply chain management system. We will focus on AWS Identity and Access Management (IAM), AWS Key Management Service (KMS), and data encryption protocols to ensure robust security.\n"
   ]
  },
  {
   "cell_type": "markdown",
   "metadata": {},
   "source": [
    "## Step 1: Create IAM Roles and Policies\n",
    "\n",
    "We start by creating IAM roles and policies that strictly limit permissions to only the necessary AWS resources.\n"
   ]
  },
  {
   "cell_type": "code",
   "execution_count": null,
   "metadata": {},
   "outputs": [],
   "source": [
    "import boto3\n",
    "\n",
    "iam = boto3.client('iam')\n",
    "\n",
    "# Create an IAM policy\n",
    "policy_document = \"\"\"\n",
    "{\n",
    "  \"Version\": \"2012-10-17\",\n",
    "  \"Statement\": [\n",
    "    {\n",
    "      \"Effect\": \"Allow\",\n",
    "      \"Action\": [\n",
    "        \"dynamodb:*\",\n",
    "        \"lambda:*\",\n",
    "        \"s3:*\",\n",
    "        \"iot:*\",\n",
    "        \"kinesis:*\"\n",
    "      ],\n",
    "      \"Resource\": \"*\"\n",
    "    }\n",
    "  ]\n",
    "}\n",
    "\"\"\"\n",
    "policy_response = iam.create_policy(\n",
    "  PolicyName='MySupplyChainPolicy',\n",
    "  PolicyDocument=policy_document\n",
    ")\n",
    "\n",
    "# Create an IAM role\n",
    "trust_policy = \"\"\"\n",
    "{\n",
    "  \"Version\": \"2012-10-17\",\n",
    "  \"Statement\": [\n",
    "    {\n",
    "      \"Effect\": \"Allow\",\n",
    "      \"Principal\": {\"Service\": \"lambda.amazonaws.com\"},\n",
    "      \"Action\": \"sts:AssumeRole\"\n",
    "    }\n",
    "  ]\n",
    "}\n",
    "\"\"\"\n",
    "role_response = iam.create_role(\n",
    "  RoleName='MySupplyChainRole',\n",
    "  AssumeRolePolicyDocument=trust_policy\n",
    ")\n",
    "\n",
    "# Attach the policy to the role\n",
    "attach_response = iam.attach_role_policy(\n",
    "  RoleName='MySupplyChainRole',\n",
    "  PolicyArn=policy_response['Policy']['Arn']\n",
    ")\n",
    "\n",
    "policy_response, role_response, attach_response\n"
   ]
  },
  {
   "cell_type": "markdown",
   "metadata": {},
   "source": [
    "## Step 2: Use AWS KMS for Key Management\n",
    "\n",
    "Next, we create a customer-managed key in AWS KMS to manage the encryption of our data.\n"
   ]
  },
  {
   "cell_type": "code",
   "execution_count": null,
   "metadata": {},
   "outputs": [],
   "source": [
    "kms = boto3.client('kms')\n",
    "\n",
    "# Create a customer-managed key\n",
    "key_response = kms.create_key(\n",
    "  Description='Key for encrypting supply chain data'\n",
    ")\n",
    "\n",
    "# Use the key to encrypt data\n",
    "encryption_example = kms.encrypt(\n",
    "  KeyId=key_response['KeyMetadata']['KeyId'],\n",
    "  Plaintext='Sensitive supply chain data'\n",
    ")\n",
    "\n",
    "key_response, encryption_example\n"
   ]
  },
  {
   "cell_type": "markdown",
   "metadata": {},
   "source": [
    "## Step 3: Enable Encryption at Rest and in Transit\n",
    "\n",
    "It's crucial to ensure that data is encrypted both at rest and in transit to prevent unauthorized access.\n"
   ]
  },
  {
   "cell_type": "code",
   "execution_count": null,
   "metadata": {},
   "outputs": [],
   "source": [
    "s3 = boto3.client('s3')\n",
    "dynamodb = boto3.client('dynamodb')\n",
    "\n",
    "# Enable server-side encryption for an S3 bucket using the KMS key\n",
    "s3.put_bucket_encryption(\n",
    "  Bucket='your-bucket-name',\n",
    "  ServerSideEncryptionConfiguration={\n",
    "    'Rules': [{\n",
    "      'ApplyServerSideEncryptionByDefault': {\n",
    "        'SSEAlgorithm': 'aws:kms',\n",
    "        'KMSMasterKeyID': key_response['KeyMetadata']['KeyId']\n",
    "      }\n",
    "    }]\n",
    "  }\n",
    ")\n",
    "\n",
    "# Enable encryption at rest for DynamoDB\n",
    "dynamodb_response = dynamodb.update_table(\n",
    "  TableName='YourDynamoDBTableName',\n",
    "  SSESpecification={\n",
    "    'Enabled': True,\n",
    "    'SSEType': 'KMS',\n",
    "    'KMSMasterKeyId': key_response['KeyMetadata']['KeyId']\n",
    "  }\n",
    ")\n",
    "\n",
    "dynamodb_response\n"
   ]
  },
  {
   "cell_type": "markdown",
   "metadata": {},
   "source": [
    "# Conclusion\n",
    "\n",
    "By implementing these security measures, we have significantly strengthened the defenses of our automated supply chain management system. IAM roles and policies provide granular access control, while AWS KMS ensures that our data is securely encrypted, protecting it from unauthorized access.\n"
   ]
  }
 ],
 "metadata": {
  "language_info": {
   "name": "python"
  }
 },
 "nbformat": 4,
 "nbformat_minor": 2
}
